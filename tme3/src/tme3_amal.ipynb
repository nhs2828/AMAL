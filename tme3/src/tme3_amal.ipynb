{
  "cells": [
    {
      "cell_type": "code",
      "execution_count": 1,
      "id": "Wy-uWu5KscC2",
      "metadata": {
        "colab": {
          "base_uri": "https://localhost:8080/"
        },
        "id": "Wy-uWu5KscC2",
        "outputId": "fd89ebfc-f818-497f-944f-4ac4670a5129"
      },
      "outputs": [
        {
          "name": "stdout",
          "output_type": "stream",
          "text": [
            "Mounted at /content/drive\n",
            "/content/drive/MyDrive/M2_S1/amal/tme3\n"
          ]
        }
      ],
      "source": [
        "from google.colab import drive\n",
        "drive.mount('/content/drive')\n",
        "%cd /content/drive/MyDrive/M2_S1/amal/tme3"
      ]
    },
    {
      "cell_type": "code",
      "execution_count": null,
      "id": "SK_nkpw_v07Q",
      "metadata": {
        "id": "SK_nkpw_v07Q"
      },
      "outputs": [],
      "source": [
        "!pip install tensorboard"
      ]
    },
    {
      "cell_type": "code",
      "execution_count": 21,
      "id": "e1xTi7lVwTvH",
      "metadata": {
        "colab": {
          "base_uri": "https://localhost:8080/"
        },
        "id": "e1xTi7lVwTvH",
        "outputId": "523acbc6-08d8-4e0e-e823-fe187aecbc24"
      },
      "outputs": [
        {
          "name": "stdout",
          "output_type": "stream",
          "text": [
            "Collecting tensorrt\n",
            "  Downloading tensorrt-8.6.1.post1.tar.gz (18 kB)\n",
            "  Preparing metadata (setup.py) ... \u001b[?25l\u001b[?25hdone\n",
            "Building wheels for collected packages: tensorrt\n",
            "  Building wheel for tensorrt (setup.py) ... \u001b[?25l\u001b[?25hdone\n",
            "  Created wheel for tensorrt: filename=tensorrt-8.6.1.post1-py2.py3-none-any.whl size=17281 sha256=d54efe1c333781fe5666f9e24b7ddaca5771c4e3b5539ee7dbb407403de22cfa\n",
            "  Stored in directory: /root/.cache/pip/wheels/f4/c8/0e/b79b08e45752491b9acfdbd69e8a609e8b2ed7640dda5a3e59\n",
            "Successfully built tensorrt\n",
            "Installing collected packages: tensorrt\n",
            "Successfully installed tensorrt-8.6.1.post1\n"
          ]
        }
      ],
      "source": [
        "!pip install tensorrt"
      ]
    },
    {
      "cell_type": "code",
      "execution_count": 2,
      "id": "bfb402ae",
      "metadata": {
        "id": "bfb402ae"
      },
      "outputs": [],
      "source": [
        "from pathlib import Path\n",
        "import os\n",
        "import pickle\n",
        "import torch\n",
        "from torchvision.utils import make_grid\n",
        "from torch.utils.data import Dataset, DataLoader\n",
        "import torch.nn as nn\n",
        "import torch.nn.functional as F\n",
        "from torch.utils.tensorboard import SummaryWriter\n",
        "import numpy as np\n",
        "import datetime\n",
        "import matplotlib.pyplot as plt\n",
        "%load_ext tensorboard\n",
        "# Téléchargement des données\n",
        "\n",
        "#from datamaestro import prepare_dataset\n",
        "##ds = prepare_dataset(\"com.lecun.mnist\");\n",
        "#train_images, train_labels = ds.train.images.data(), ds.train.labels.data()\n",
        "#test_images, test_labels =  ds.test.images.data(), ds.test.labels.data()\n",
        "\n",
        "# Tensorboard : rappel, lancer dans une console tensorboard --logdir runs\n",
        "#writer = SummaryWriter(\"runs/runs\"+datetime.datetime.now().strftime(\"%Y%m%d-%H%M%S\"))\n",
        "\n",
        "# Pour visualiser\n",
        "# Les images doivent etre en format Channel (3) x Hauteur x Largeur\n",
        "#images = torch.tensor(train_images).unsqueeze(1).repeat(1,3,1,1).double()/255.\n",
        "# Permet de fabriquer une grille d'images\n",
        "#images = make_grid(images)\n",
        "# Affichage avec tensorboard\n",
        "#writer.add_image(f'samples', images, 0)\n",
        "\n",
        "#savepath = Path(\"model.pch\")\n",
        "\n",
        "with open('mnist', 'rb') as f: # je sauvegarde data sur mon ordi\n",
        "    l = pickle.load(f)\n",
        "train_images, train_labels = l[0], l[1]\n",
        "test_images, test_labels = l[2], l[3]"
      ]
    },
    {
      "cell_type": "markdown",
      "id": "BsX8JOHR5d9Z",
      "metadata": {
        "id": "BsX8JOHR5d9Z"
      },
      "source": [
        "## Créer Dataset"
      ]
    },
    {
      "cell_type": "code",
      "execution_count": 3,
      "id": "01cab512",
      "metadata": {
        "id": "01cab512"
      },
      "outputs": [],
      "source": [
        "class monDataset(Dataset):\n",
        "    def __init__(self, image, label):\n",
        "        self.y = label\n",
        "        self.sizeIMG = image.shape[-1]\n",
        "        self.x = torch.tensor(image)/255.\n",
        "        self.x = torch.reshape(self.x, (len(self.y), -1))\n",
        "        self.x = self.x.to(torch.float32)\n",
        "\n",
        "    def __getitem__(self, index):\n",
        "        return (self.x[index], self.y[index])\n",
        "\n",
        "    def __len__(self):\n",
        "        return len(self.y)\n",
        "\n",
        "    def getDimIn(self):\n",
        "        return self.x.shape[1]\n",
        "\n",
        "    def getData(self):\n",
        "        return self.x, self.y\n",
        "\n",
        "    def getIMGsize(self):\n",
        "        return self.sizeIMG"
      ]
    },
    {
      "cell_type": "code",
      "execution_count": 4,
      "id": "7830b88b",
      "metadata": {
        "id": "7830b88b"
      },
      "outputs": [],
      "source": [
        "dstrain = monDataset(train_images, train_labels)\n",
        "dstest = monDataset(test_images, test_labels)"
      ]
    },
    {
      "cell_type": "markdown",
      "id": "9gJnLTfi5hOy",
      "metadata": {
        "id": "9gJnLTfi5hOy"
      },
      "source": [
        "## Visualisation de données"
      ]
    },
    {
      "cell_type": "code",
      "execution_count": 5,
      "id": "hesa4KQxtkf8",
      "metadata": {
        "colab": {
          "base_uri": "https://localhost:8080/",
          "height": 447
        },
        "id": "hesa4KQxtkf8",
        "outputId": "b9ee4218-7bb7-41ee-c137-8f80d6b77be7"
      },
      "outputs": [
        {
          "data": {
            "text/plain": [
              "<matplotlib.image.AxesImage at 0x7d199c651ae0>"
            ]
          },
          "execution_count": 5,
          "metadata": {},
          "output_type": "execute_result"
        },
        {
          "data": {
            "image/png": "[encoded data removed]",
            "text/plain": [
              "<Figure size 640x480 with 1 Axes>"
            ]
          },
          "metadata": {},
          "output_type": "display_data"
        }
      ],
      "source": [
        "DIM_IN = dstrain.getDimIn()\n",
        "ORIGIN_SIZE = dstrain.getIMGsize()\n",
        "data_sample = dstrain[1]\n",
        "x = data_sample[0].reshape(ORIGIN_SIZE,ORIGIN_SIZE)*255.\n",
        "plt.imshow(x, cmap='gray')"
      ]
    },
    {
      "cell_type": "markdown",
      "id": "fS7QwWhX5kpC",
      "metadata": {
        "id": "fS7QwWhX5kpC"
      },
      "source": [
        "## Créer Dataloader"
      ]
    },
    {
      "cell_type": "code",
      "execution_count": 6,
      "id": "376ff408",
      "metadata": {
        "id": "376ff408"
      },
      "outputs": [],
      "source": [
        "data = DataLoader(dstrain, shuffle=True, batch_size=64)\n",
        "data_test = DataLoader(dstest, shuffle=True, batch_size=100)"
      ]
    },
    {
      "cell_type": "code",
      "execution_count": 7,
      "id": "A5pWy_Ae1GIM",
      "metadata": {
        "colab": {
          "base_uri": "https://localhost:8080/"
        },
        "id": "A5pWy_Ae1GIM",
        "outputId": "9945c727-d1f3-4bbf-8a11-f799def577d1"
      },
      "outputs": [
        {
          "data": {
            "text/plain": [
              "device(type='cuda')"
            ]
          },
          "execution_count": 7,
          "metadata": {},
          "output_type": "execute_result"
        }
      ],
      "source": [
        "device = torch.device(\"cuda\" if torch.cuda.is_available() else \"cpu\")\n",
        "device"
      ]
    },
    {
      "cell_type": "markdown",
      "id": "LgswjCjK5nrK",
      "metadata": {
        "id": "LgswjCjK5nrK"
      },
      "source": [
        "## Autoencoder"
      ]
    },
    {
      "cell_type": "code",
      "execution_count": 77,
      "id": "c7318667",
      "metadata": {
        "id": "c7318667"
      },
      "outputs": [],
      "source": [
        "class AutoEncoder(torch.nn.Module):\n",
        "    def __init__(self, dim_in, hidden):\n",
        "        super().__init__()\n",
        "        self.dim_in = dim_in\n",
        "        self.hidden = hidden\n",
        "        self.biasDecoder = torch.rand(self.dim_in, requires_grad=True, device=device)\n",
        "        self.encoder = nn.Linear(self.dim_in, self.hidden)\n",
        "\n",
        "    def forward(self, input):\n",
        "        x = self.encoder(input)\n",
        "        x = torch.relu(x)\n",
        "        x = F.linear(x, self.encoder.weight.T, bias=self.biasDecoder)\n",
        "        x = torch.sigmoid(x)\n",
        "        return x"
      ]
    },
    {
      "cell_type": "markdown",
      "id": "ieAdXyLu5AcW",
      "metadata": {
        "id": "ieAdXyLu5AcW"
      },
      "source": [
        "Intétêt d'utiliser un poid partagé pour l'encodeur et le décodeur: nous pourrions le considérer comme une façon de régularisation, ceci réduit la compléxité du réseau."
      ]
    },
    {
      "cell_type": "markdown",
      "id": "M6OFxxVy5anR",
      "metadata": {
        "id": "M6OFxxVy5anR"
      },
      "source": [
        "## Check point"
      ]
    },
    {
      "cell_type": "code",
      "execution_count": 8,
      "id": "2CFCqqcExQnp",
      "metadata": {
        "id": "2CFCqqcExQnp"
      },
      "outputs": [],
      "source": [
        "class State :\n",
        "    def __init__ (self, model, optim):\n",
        "        self.model = model\n",
        "        self.optim = optim\n",
        "        self.epoch, self.iteration = 0, 0"
      ]
    },
    {
      "cell_type": "code",
      "execution_count": 81,
      "id": "6Kzjf7clxVR4",
      "metadata": {
        "id": "6Kzjf7clxVR4"
      },
      "outputs": [],
      "source": [
        "savepath = Path(\"model.plt\")\n",
        "DIM_IN = dstrain.getDimIn()\n",
        "HIDDEN = 40\n",
        "lr = 0.5\n",
        "NB_EPOCH = 20\n",
        "if savepath.is_file():\n",
        "    with savepath.open(\"rb\") as fp :\n",
        "        state = torch.load(fp)\n",
        "else:\n",
        "    model = AutoEncoder(DIM_IN, HIDDEN).to(device)\n",
        "    optim = torch.optim.SGD(params=[model.encoder.weight, model.encoder.bias, model.biasDecoder],lr=lr)\n",
        "    state = State(model, optim)\n",
        "\n",
        "loss = torch.nn.BCELoss()"
      ]
    },
    {
      "cell_type": "markdown",
      "id": "BEx2XbNZ5qcU",
      "metadata": {
        "id": "BEx2XbNZ5qcU"
      },
      "source": [
        "## Training"
      ]
    },
    {
      "cell_type": "code",
      "execution_count": 89,
      "id": "8dca7502",
      "metadata": {
        "colab": {
          "base_uri": "https://localhost:8080/",
          "height": 191
        },
        "id": "8dca7502",
        "outputId": "ddd1dec0-ecfd-4c52-c7db-375aff5c04ad"
      },
      "outputs": [
        {
          "data": {
            "image/png": "[encoded data removed]",
            "text/plain": [
              "<Figure size 640x480 with 16 Axes>"
            ]
          },
          "metadata": {},
          "output_type": "display_data"
        }
      ],
      "source": [
        "writer = SummaryWriter()\n",
        "for epoch in range(state.epoch, NB_EPOCH):\n",
        "    print(f'Epoch {epoch+1}')\n",
        "\n",
        "    for x, y in data:\n",
        "        x = x.to(device)\n",
        "        x_reconstruction = state.model.forward(x)\n",
        "        state.optim.zero_grad()\n",
        "        l = loss(x_reconstruction, x)\n",
        "        l.backward()\n",
        "        state.optim.step()\n",
        "        state.iteration += 1\n",
        "        writer.add_scalar('Loss/train', l, state.iteration)\n",
        "\n",
        "    with savepath.open(\"wb\") as fp :\n",
        "        state.epoch = epoch + 1\n",
        "        torch.save(state, fp)\n",
        "\n",
        "    with torch.no_grad():\n",
        "        x_test,y_test = next(iter(data_test))\n",
        "        x_test = x_test.to(device)\n",
        "        writer.add_scalar('Loss/test', loss(state.model.forward(x_test), x_test), state.iteration)\n",
        "\n",
        "fig, axs = plt.subplots(nrows=2, ncols=8, subplot_kw={'xticks': [], 'yticks': []})\n",
        "NB_IMG = 8\n",
        "img_original = np.zeros((NB_IMG,ORIGIN_SIZE, ORIGIN_SIZE))\n",
        "img_reconstruite = np.zeros((NB_IMG,ORIGIN_SIZE, ORIGIN_SIZE))\n",
        "for x,y in data:\n",
        "    x = x.to(device)\n",
        "    xhat = state.model.forward(x)\n",
        "    for i in range(NB_IMG):\n",
        "      img_original[i] = (x[i].cpu().detach().numpy().reshape((ORIGIN_SIZE, ORIGIN_SIZE)) * 255.).astype(int)\n",
        "      img_reconstruite[i] = (xhat[i].cpu().detach().numpy().reshape((ORIGIN_SIZE, ORIGIN_SIZE)) * 255.).astype(int)\n",
        "      axs[0, i].imshow(img_original[i], cmap='gray')\n",
        "      axs[1, i].imshow(img_reconstruite[i], cmap='gray')\n",
        "    break\n",
        "\n",
        "plt.subplots_adjust(top = 0.5)\n",
        "plt.show()\n",
        "\n",
        "writer.close()"
      ]
    },
    {
      "cell_type": "code",
      "execution_count": 94,
      "id": "Gm2sWr0t7KA0",
      "metadata": {
        "colab": {
          "base_uri": "https://localhost:8080/",
          "height": 821
        },
        "id": "Gm2sWr0t7KA0",
        "outputId": "132db446-6251-444b-c2a4-c40ca80798b2"
      },
      "outputs": [
        {
          "data": {
            "application/javascript": "\n        (async () => {\n            const url = new URL(await google.colab.kernel.proxyPort(6006, {'cache': true}));\n            url.searchParams.set('tensorboardColab', 'true');\n            const iframe = document.createElement('iframe');\n            iframe.src = url;\n            iframe.setAttribute('width', '100%');\n            iframe.setAttribute('height', '800');\n            iframe.setAttribute('frameborder', 0);\n            document.body.appendChild(iframe);\n        })();\n    ",
            "text/plain": [
              "<IPython.core.display.Javascript object>"
            ]
          },
          "metadata": {},
          "output_type": "display_data"
        }
      ],
      "source": [
        "%tensorboard --logdir=runs  --host localhost"
      ]
    },
    {
      "cell_type": "markdown",
      "id": "MNCDl5_L8Eje",
      "metadata": {
        "id": "MNCDl5_L8Eje"
      },
      "source": [
        "## Muti couches latentes"
      ]
    },
    {
      "cell_type": "code",
      "execution_count": 103,
      "id": "Azh5z0ej8Khv",
      "metadata": {
        "id": "Azh5z0ej8Khv"
      },
      "outputs": [],
      "source": [
        "class AutoEncoder2(torch.nn.Module):\n",
        "    def __init__(self, dim_in):\n",
        "        super().__init__()\n",
        "        self.dim_in = dim_in\n",
        "        self.seq = torch.nn.Sequential(\n",
        "            torch.nn.Linear(self.dim_in, 128),\n",
        "            torch.nn.ReLU(),\n",
        "            torch.nn.Linear(128, 16),\n",
        "            torch.nn.ReLU(),\n",
        "            torch.nn.Linear(16, 128),\n",
        "            torch.nn.ReLU(),\n",
        "            torch.nn.Linear(128, self.dim_in),\n",
        "            torch.nn.Sigmoid()\n",
        "        )\n",
        "\n",
        "    def forward(self, input):\n",
        "        x = self.seq(input)\n",
        "        return x"
      ]
    },
    {
      "cell_type": "code",
      "execution_count": 104,
      "id": "ITySBT6s83F4",
      "metadata": {
        "id": "ITySBT6s83F4"
      },
      "outputs": [],
      "source": [
        "savepath = Path(\"model_2.plt\")\n",
        "DIM_IN = dstrain.getDimIn()\n",
        "lr = 0.1\n",
        "NB_EPOCH = 20\n",
        "if savepath.is_file():\n",
        "    with savepath.open(\"rb\") as fp :\n",
        "        state = torch.load(fp)\n",
        "else:\n",
        "    model = AutoEncoder2(DIM_IN).to(device)\n",
        "    optim = torch.optim.SGD(params=model.parameters(),lr=lr)\n",
        "    state = State(model, optim)\n",
        "\n",
        "loss = torch.nn.BCELoss()"
      ]
    },
    {
      "cell_type": "code",
      "execution_count": 105,
      "id": "lYuKLMMV9Lr4",
      "metadata": {
        "colab": {
          "base_uri": "https://localhost:8080/",
          "height": 538
        },
        "id": "lYuKLMMV9Lr4",
        "outputId": "8640a1f2-a07d-4953-d711-edd138bbe816"
      },
      "outputs": [
        {
          "name": "stdout",
          "output_type": "stream",
          "text": [
            "Epoch 1\n",
            "Epoch 2\n",
            "Epoch 3\n",
            "Epoch 4\n",
            "Epoch 5\n",
            "Epoch 6\n",
            "Epoch 7\n",
            "Epoch 8\n",
            "Epoch 9\n",
            "Epoch 10\n",
            "Epoch 11\n",
            "Epoch 12\n",
            "Epoch 13\n",
            "Epoch 14\n",
            "Epoch 15\n",
            "Epoch 16\n",
            "Epoch 17\n",
            "Epoch 18\n",
            "Epoch 19\n",
            "Epoch 20\n"
          ]
        },
        {
          "data": {
            "image/png": "[encoded data removed]",
            "text/plain": [
              "<Figure size 640x480 with 16 Axes>"
            ]
          },
          "metadata": {},
          "output_type": "display_data"
        }
      ],
      "source": [
        "writer = SummaryWriter()\n",
        "for epoch in range(state.epoch, NB_EPOCH):\n",
        "    print(f'Epoch {epoch+1}')\n",
        "\n",
        "    for x, y in data:\n",
        "        x = x.to(device)\n",
        "        x_reconstruction = state.model.forward(x)\n",
        "        state.optim.zero_grad()\n",
        "        l = loss(x_reconstruction, x)\n",
        "        l.backward()\n",
        "        state.optim.step()\n",
        "        state.iteration += 1\n",
        "        writer.add_scalar('Loss/train', l, state.iteration)\n",
        "\n",
        "    with savepath.open(\"wb\") as fp :\n",
        "        state.epoch = epoch + 1\n",
        "        torch.save(state, fp)\n",
        "\n",
        "    with torch.no_grad():\n",
        "        x_test,y_test = next(iter(data_test))\n",
        "        x_test = x_test.to(device)\n",
        "        writer.add_scalar('Loss/test', loss(state.model.forward(x_test), x_test), state.iteration)\n",
        "\n",
        "fig, axs = plt.subplots(nrows=2, ncols=8, subplot_kw={'xticks': [], 'yticks': []})\n",
        "NB_IMG = 8\n",
        "img_original = np.zeros((NB_IMG,ORIGIN_SIZE, ORIGIN_SIZE))\n",
        "img_reconstruite = np.zeros((NB_IMG,ORIGIN_SIZE, ORIGIN_SIZE))\n",
        "for x,y in data:\n",
        "    x = x.to(device)\n",
        "    xhat = state.model.forward(x)\n",
        "    for i in range(NB_IMG):\n",
        "      img_original[i] = (x[i].cpu().detach().numpy().reshape((ORIGIN_SIZE, ORIGIN_SIZE)) * 255.).astype(int)\n",
        "      img_reconstruite[i] = (xhat[i].cpu().detach().numpy().reshape((ORIGIN_SIZE, ORIGIN_SIZE)) * 255.).astype(int)\n",
        "      axs[0, i].imshow(img_original[i], cmap='gray')\n",
        "      axs[1, i].imshow(img_reconstruite[i], cmap='gray')\n",
        "    break\n",
        "\n",
        "plt.subplots_adjust(top = 0.5)\n",
        "plt.show()\n",
        "\n",
        "writer.close()"
      ]
    },
    {
      "cell_type": "markdown",
      "id": "gX2Jkrhu_T8_",
      "metadata": {
        "id": "gX2Jkrhu_T8_"
      },
      "source": [
        "## Highway network"
      ]
    },
    {
      "cell_type": "code",
      "execution_count": 9,
      "id": "uEqE7EPn_V45",
      "metadata": {
        "id": "uEqE7EPn_V45"
      },
      "outputs": [],
      "source": [
        "class HighwayToHeaven(torch.nn.Module):\n",
        "  def __init__(self, dim_in, nb_couches):\n",
        "    super().__init__()\n",
        "    self.nb_couches = nb_couches\n",
        "    self.H = torch.nn.ModuleList([torch.nn.Linear(dim_in, dim_in) for i in range(self.nb_couches)])\n",
        "    self.activation_H = torch.nn.ReLU() # or tanh\n",
        "    self.T = torch.nn.ModuleList([torch.nn.Linear(dim_in, dim_in) for i in range(self.nb_couches)])\n",
        "    self.activation_T = torch.nn.Sigmoid() # transform gate article utilise sigmoide\n",
        "    # In our experiments, we found that a negative bias initialization was sufficient for learning (article)\n",
        "    for gate in self.T:\n",
        "      gate.bias.data.fill_(-1)\n",
        "\n",
        "  def forward(self, input):\n",
        "    x = input\n",
        "    for i in range(self.nb_couches):\n",
        "      # H\n",
        "      x_ = x\n",
        "      h = self.H[i](x)\n",
        "      h = self.activation_H(h)\n",
        "\n",
        "      # T\n",
        "      t = self.T[i](x)\n",
        "      t = self.activation_T(t)\n",
        "\n",
        "      x = h*t + x_*(1-t)\n",
        "    return x\n"
      ]
    },
    {
      "cell_type": "code",
      "execution_count": 11,
      "id": "nafLVD1YDmn7",
      "metadata": {
        "id": "nafLVD1YDmn7"
      },
      "outputs": [],
      "source": [
        "savepath = Path(\"model_hw.plt\")\n",
        "DIM_IN = dstrain.getDimIn()\n",
        "NB_COUCHES = 2\n",
        "lr = 0.1\n",
        "NB_EPOCH = 20\n",
        "if savepath.is_file():\n",
        "    with savepath.open(\"rb\") as fp :\n",
        "        state = torch.load(fp)\n",
        "else:\n",
        "    model = HighwayToHeaven(DIM_IN, NB_COUCHES).to(device)\n",
        "    optim = torch.optim.SGD(params=model.parameters(),lr=lr)\n",
        "    state = State(model, optim)\n",
        "\n",
        "loss = torch.nn.BCEWithLogitsLoss()"
      ]
    },
    {
      "cell_type": "code",
      "execution_count": 12,
      "id": "r6KarYd1Dxda",
      "metadata": {
        "colab": {
          "base_uri": "https://localhost:8080/",
          "height": 538
        },
        "id": "r6KarYd1Dxda",
        "outputId": "92c77bb1-f6f9-49e1-d048-78ca037ad250"
      },
      "outputs": [
        {
          "name": "stdout",
          "output_type": "stream",
          "text": [
            "Epoch 1\n",
            "Epoch 2\n",
            "Epoch 3\n",
            "Epoch 4\n",
            "Epoch 5\n",
            "Epoch 6\n",
            "Epoch 7\n",
            "Epoch 8\n",
            "Epoch 9\n",
            "Epoch 10\n",
            "Epoch 11\n",
            "Epoch 12\n",
            "Epoch 13\n",
            "Epoch 14\n",
            "Epoch 15\n",
            "Epoch 16\n",
            "Epoch 17\n",
            "Epoch 18\n",
            "Epoch 19\n",
            "Epoch 20\n"
          ]
        },
        {
          "data": {
            "image/png": "[encoded data removed]",
            "text/plain": [
              "<Figure size 640x480 with 16 Axes>"
            ]
          },
          "metadata": {},
          "output_type": "display_data"
        }
      ],
      "source": [
        "writer = SummaryWriter()\n",
        "for epoch in range(state.epoch, NB_EPOCH):\n",
        "    print(f'Epoch {epoch+1}')\n",
        "\n",
        "    for x, y in data:\n",
        "        x = x.to(device)\n",
        "        x_reconstruction = state.model.forward(x)\n",
        "        state.optim.zero_grad()\n",
        "        l = loss(x_reconstruction, x)\n",
        "        l.backward()\n",
        "        state.optim.step()\n",
        "        state.iteration += 1\n",
        "        writer.add_scalar('Loss/train', l, state.iteration)\n",
        "\n",
        "    with savepath.open(\"wb\") as fp :\n",
        "        state.epoch = epoch + 1\n",
        "        torch.save(state, fp)\n",
        "\n",
        "    with torch.no_grad():\n",
        "        x_test,y_test = next(iter(data_test))\n",
        "        x_test = x_test.to(device)\n",
        "        writer.add_scalar('Loss/test', loss(state.model.forward(x_test), x_test), state.iteration)\n",
        "\n",
        "fig, axs = plt.subplots(nrows=2, ncols=8, subplot_kw={'xticks': [], 'yticks': []})\n",
        "NB_IMG = 8\n",
        "img_original = np.zeros((NB_IMG,ORIGIN_SIZE, ORIGIN_SIZE))\n",
        "img_reconstruite = np.zeros((NB_IMG,ORIGIN_SIZE, ORIGIN_SIZE))\n",
        "for x,y in data:\n",
        "    x = x.to(device)\n",
        "    xhat = state.model.forward(x)\n",
        "    for i in range(NB_IMG):\n",
        "      img_original[i] = (x[i].cpu().detach().numpy().reshape((ORIGIN_SIZE, ORIGIN_SIZE)) * 255.).astype(int)\n",
        "      img_reconstruite[i] = (xhat[i].cpu().detach().numpy().reshape((ORIGIN_SIZE, ORIGIN_SIZE)) * 255.).astype(int)\n",
        "      axs[0, i].imshow(img_original[i], cmap='gray')\n",
        "      axs[1, i].imshow(img_reconstruite[i], cmap='gray')\n",
        "    break\n",
        "\n",
        "plt.subplots_adjust(top = 0.5)\n",
        "plt.show()\n",
        "\n",
        "writer.close()"
      ]
    },
    {
      "cell_type": "markdown",
      "id": "CzQBASP_G7zi",
      "metadata": {
        "id": "CzQBASP_G7zi"
      },
      "source": [
        "Comparaison: Highway réseau reconstruit bien les données MNIST. Pour 20 epochs, avec le même learning rate, les données reconstruites d'un réseau de 4 couches (dont 2 couches latents) sont moins bonnes que HW réseau. Et pour le réseau poid partagé, il faut avoir un pas de learning rate assez grand $0.5$ pour avoir des résultats aussi bons que HW réseau."
      ]
    }
  ],
  "metadata": {
    "accelerator": "GPU",
    "colab": {
      "gpuType": "V100",
      "provenance": []
    },
    "kernelspec": {
      "display_name": "Python 3",
      "name": "python3"
    },
    "language_info": {
      "codemirror_mode": {
        "name": "ipython",
        "version": 3
      },
      "file_extension": ".py",
      "mimetype": "text/x-python",
      "name": "python",
      "nbconvert_exporter": "python",
      "pygments_lexer": "ipython3",
      "version": "3.10.12"
    }
  },
  "nbformat": 4,
  "nbformat_minor": 5
}
